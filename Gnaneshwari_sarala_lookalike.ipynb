{
 "cells": [
  {
   "cell_type": "code",
   "execution_count": 1,
   "id": "10a97653-3825-4926-be91-9801eebe6b3d",
   "metadata": {},
   "outputs": [],
   "source": [
    "import pandas as pd\n",
    "from sklearn.metrics.pairwise import cosine_similarity\n",
    "from sklearn.preprocessing import StandardScaler\n",
    "\n",
    "# Load datasets\n",
    "customers = pd.read_csv('C:\\\\Users\\\\Administrator\\\\Data Science\\\\Customers.csv')\n",
    "products = pd.read_csv('C:\\\\Users\\\\Administrator\\\\Data Science\\\\Products.csv')\n",
    "transactions = pd.read_csv('C:\\\\Users\\\\Administrator\\\\Data Science\\\\Transactions.csv')"
   ]
  },
  {
   "cell_type": "code",
   "execution_count": 2,
   "id": "66b1a6af-6508-49b8-9457-9a02edc78567",
   "metadata": {},
   "outputs": [],
   "source": [
    "customers['SignupDate'] = pd.to_datetime(customers['SignupDate'])\n",
    "transactions['TransactionDate'] = pd.to_datetime(transactions['TransactionDate'])\n"
   ]
  },
  {
   "cell_type": "code",
   "execution_count": 3,
   "id": "fba7922b-cad9-4bce-8825-55e9039d1d62",
   "metadata": {},
   "outputs": [],
   "source": [
    "merged_data = transactions.merge(customers, on='CustomerID').merge(products, on='ProductID')\n"
   ]
  },
  {
   "cell_type": "code",
   "execution_count": 4,
   "id": "b83ca249-2f13-4a4f-bb04-99212954a95c",
   "metadata": {},
   "outputs": [],
   "source": [
    "customer_features = merged_data.groupby('CustomerID').agg({\n",
    "    'TotalValue': ['sum', 'mean', 'count'],  # Total, Average Spending, and Transaction Count\n",
    "    'Quantity': 'sum',                      # Total Quantity Purchased\n",
    "    'Category': lambda x: x.mode()[0]       # Most Purchased Category\n",
    "}).reset_index()\n",
    "\n",
    "# Rename columns for clarity\n",
    "customer_features.columns = [\n",
    "    'CustomerID', 'TotalSpending', 'AverageSpending', 'TransactionCount', \n",
    "    'TotalQuantity', 'MostPurchasedCategory'\n",
    "]"
   ]
  },
  {
   "cell_type": "code",
   "execution_count": 5,
   "id": "f2e63e06-f7c4-4cfa-909a-867d22f04c3d",
   "metadata": {},
   "outputs": [],
   "source": [
    "customer_profiles = customers.merge(customer_features, on='CustomerID')"
   ]
  },
  {
   "cell_type": "code",
   "execution_count": 6,
   "id": "0ca615be-591a-42da-8597-1e1b9a9a4d19",
   "metadata": {},
   "outputs": [],
   "source": [
    "#Step 2: Encode categorical variables (Region, MostPurchasedCategory)\n",
    "customer_profiles = pd.get_dummies(customer_profiles, columns=['Region', 'MostPurchasedCategory'], drop_first=True)"
   ]
  },
  {
   "cell_type": "code",
   "execution_count": 7,
   "id": "b85d249f-44e4-4d75-8ac8-584e4ac5e70e",
   "metadata": {},
   "outputs": [],
   "source": [
    "# Step 3: Normalize numerical features\n",
    "numerical_features = ['TotalSpending', 'AverageSpending', 'TransactionCount', 'TotalQuantity']\n",
    "scaler = StandardScaler()\n",
    "customer_profiles[numerical_features] = scaler.fit_transform(customer_profiles[numerical_features])"
   ]
  },
  {
   "cell_type": "code",
   "execution_count": 8,
   "id": "5b1169b2-93e4-4bb4-8408-390a64345248",
   "metadata": {},
   "outputs": [],
   "source": [
    "# Step 4: Compute pairwise similarity using Cosine Similarity\n",
    "customer_similarity = cosine_similarity(customer_profiles[numerical_features])\n",
    "customer_similarity_df = pd.DataFrame(\n",
    "    customer_similarity, index=customer_profiles['CustomerID'], columns=customer_profiles['CustomerID']\n",
    ")"
   ]
  },
  {
   "cell_type": "code",
   "execution_count": 9,
   "id": "b67964e2-1a8a-4d3d-9d63-12e3b2051258",
   "metadata": {},
   "outputs": [],
   "source": [
    "# Step 5: Find top 3 similar customers for each target customer (C0001 - C0020)\n",
    "target_customers = customer_profiles['CustomerID'][:20]\n",
    "lookalike_map = {}\n",
    "\n",
    "for customer_id in target_customers:\n",
    "    # Get similarity scores for the target customer\n",
    "    similar_customers = customer_similarity_df[customer_id].sort_values(ascending=False)\n",
    "    similar_customers = similar_customers[similar_customers.index != customer_id]  # Exclude the customer itself\n",
    "    top_similar_customers = similar_customers.head(3).reset_index()\n",
    "    lookalike_map[customer_id] = top_similar_customers.values.tolist()"
   ]
  },
  {
   "cell_type": "code",
   "execution_count": 11,
   "id": "fcaea725-c5d6-4a5e-9e38-5b495d71572c",
   "metadata": {},
   "outputs": [],
   "source": [
    "# Step 6: Save the results to a CSV file\n",
    "lookalike_data = []\n",
    "\n",
    "for cust_id, lookalikes in lookalike_map.items():\n",
    "    for lookalike in lookalikes:\n",
    "        lookalike_data.append([cust_id, lookalike[0], lookalike[1]])\n",
    "\n",
    "lookalike_df = pd.DataFrame(lookalike_data, columns=['CustomerID', 'LookalikeID', 'SimilarityScore'])\n",
    "lookalike_df.to_csv('C:\\\\Users\\\\Administrator\\\\Data Science\\\\Lookalike.csv', index=False)\n"
   ]
  },
  {
   "cell_type": "code",
   "execution_count": 12,
   "id": "64893b2c-19dd-4af2-ba71-fc435577414c",
   "metadata": {},
   "outputs": [
    {
     "name": "stdout",
     "output_type": "stream",
     "text": [
      "Lookalike model output saved to Lookalike.csv\n"
     ]
    }
   ],
   "source": [
    "print(\"Lookalike model output saved to Lookalike.csv\")"
   ]
  },
  {
   "cell_type": "code",
   "execution_count": null,
   "id": "fdd0e1fb-ff5e-417f-ae43-c4f2151deb7e",
   "metadata": {},
   "outputs": [],
   "source": []
  }
 ],
 "metadata": {
  "kernelspec": {
   "display_name": "Python 3 (ipykernel)",
   "language": "python",
   "name": "python3"
  },
  "language_info": {
   "codemirror_mode": {
    "name": "ipython",
    "version": 3
   },
   "file_extension": ".py",
   "mimetype": "text/x-python",
   "name": "python",
   "nbconvert_exporter": "python",
   "pygments_lexer": "ipython3",
   "version": "3.13.0"
  }
 },
 "nbformat": 4,
 "nbformat_minor": 5
}
